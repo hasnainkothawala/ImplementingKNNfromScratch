{
 "cells": [
  {
   "cell_type": "markdown",
   "metadata": {},
   "source": [
    "## K Nearest Neighbours : Classification Problem\n",
    "\n",
    "## Part 2"
   ]
  },
  {
   "cell_type": "markdown",
   "metadata": {},
   "source": [
    "* Below is the code implementation of distance weighted KNN for k = 10"
   ]
  },
  {
   "cell_type": "code",
   "execution_count": 1,
   "metadata": {},
   "outputs": [
    {
     "name": "stdout",
     "output_type": "stream",
     "text": [
      "KNN Distance Weighted -Classification for k=10 accuracy ==>92.7\n"
     ]
    }
   ],
   "source": [
    "import numpy as np\n",
    "import matplotlib.pyplot as plt\n",
    "from clyent import color\n",
    "from sklearn.neighbors import KNeighborsClassifier\n",
    "                              \n",
    "\n",
    "\n",
    "\n",
    "class KNearestNeighbours:\n",
    "    def __init__(self, __trainingDataFile, __testDataFile):\n",
    "\n",
    "        self.trainingDataFile = __trainingDataFile\n",
    "        self.testDataFile = __testDataFile\n",
    "        self.trainingData = np.array([])\n",
    "        self.testData = np.array([])\n",
    "        self.euclideanDistances = np.array([])\n",
    "        self.euclideanDistancesSorted = np.array([])\n",
    "        self.readInstances()\n",
    "\n",
    "    def readInstances(self):\n",
    "\n",
    "        self.trainingData = np.genfromtxt(self.trainingDataFile, delimiter=',', dtype=float)\n",
    "        self.testData = np.genfromtxt(self.testDataFile, delimiter=',', dtype=float)\n",
    "\n",
    "    def viewData(self):\n",
    "        self.updateDistances()\n",
    "        \n",
    "    '''This methods recieves all the training instances, Returns the distance between the single point query\n",
    "    every training instance. Also return the distances in the sorted manner''' \n",
    "\n",
    "    def calculateDistances(self, trainingInstancesMatrix, singlQueryPoint):\n",
    "        data = np.sqrt(np.sum((trainingInstancesMatrix - singlQueryPoint) ** 2, axis=1))\n",
    "        sorted_data = np.argsort(data)\n",
    "        return data, sorted_data\n",
    "\n",
    "    def updateDistances(self):\n",
    "        distances = []\n",
    "        sortedDistances = []\n",
    "        for i in range(0, np.shape(self.testData)[0]):\n",
    "            d, sd = self.calculateDistances(self.trainingData[:, :-1], self.testData[i, :-1])\n",
    "            distances.append(d)\n",
    "            sortedDistances.append(sd)\n",
    "            i += 1\n",
    "        self.euclideanDistances = np.array(distances)\n",
    "        self.euclideanDistancesSorted = np.array(sortedDistances)\n",
    "\n",
    "    def CountFrequency(self, my_list):\n",
    "        '''Returns the value of the majority neighbours '''\n",
    "\n",
    "        freq = {}\n",
    "        for item in my_list:\n",
    "            if (item in freq):\n",
    "                freq[item] += 1\n",
    "            else:\n",
    "                freq[item] = 1\n",
    "        i = 0\n",
    "        max_count = 0\n",
    "        for key, value in freq.items():\n",
    "            if value > i:\n",
    "                i = value\n",
    "                max_count = key\n",
    "        return max_count\n",
    "\n",
    "    def calculate_accuracy(self, expected_results, predicted_results):\n",
    "        indexes = np.where(expected_results == predicted_results)\n",
    "        # print(indexes)\n",
    "        # print(len(indexes[0]))\n",
    "        good_pred_count = len(indexes[0])\n",
    "        accuracy = (good_pred_count / np.shape(kNearestNeighbours.testData)[0]) * 100\n",
    "        return accuracy\n",
    "\n",
    "    def generate_pred_based_on_weightedDistance(self, results, euclidean_distance_of_neighbours):\n",
    "        zero_pt_indexes = np.where(results == 0.)\n",
    "        one_pt_indexes = np.where(results == 1.)\n",
    "        two_pt_indexes = np.where(results == 2.)\n",
    "        list_sums = []\n",
    "        inverted_euclidean_distance_of_neighbours = 1 / euclidean_distance_of_neighbours\n",
    "        zero_sum = np.sum(inverted_euclidean_distance_of_neighbours[zero_pt_indexes])\n",
    "        one_sum = np.sum(inverted_euclidean_distance_of_neighbours[one_pt_indexes])\n",
    "        two_sum = np.sum(inverted_euclidean_distance_of_neighbours[two_pt_indexes])\n",
    "        list_sums = [zero_sum, one_sum, two_sum]\n",
    "        index_of_max_sum = list_sums.index(max(list_sums))\n",
    "\n",
    "        if index_of_max_sum == 0:\n",
    "            return 0.\n",
    "\n",
    "        elif index_of_max_sum == 1:\n",
    "            return 1.\n",
    "\n",
    "        elif index_of_max_sum == 2:\n",
    "            return 2.\n",
    "\n",
    "\n",
    "kNearestNeighbours = KNearestNeighbours(\"trainingData.csv\", \"testData.csv\")\n",
    "kNearestNeighbours.viewData()\n",
    "\n",
    "# Select the number of neighbours\n",
    "k = 10\n",
    "\n",
    "'''Find the euclidean distance from each instance in test data and find the nearest train instances'''\n",
    "\n",
    "predicted_results = []\n",
    "predicted_results_based_on_weightedDistance = []\n",
    "for indexToBe_searched in range(np.shape(kNearestNeighbours.testData)[0]):\n",
    "    list_of_neighbours = kNearestNeighbours.euclideanDistancesSorted[indexToBe_searched][:k]\n",
    "    results = []\n",
    "    euclidean_distance_of_neighbours = []\n",
    "    for neighbour in list_of_neighbours:\n",
    "        '''Finding the labelled class of each of the neighbouring training instances'''\n",
    "        result = kNearestNeighbours.trainingData[neighbour][-1:]\n",
    "\n",
    "        '''Find the distances between the target instance and the neighbours for weighted distance calculations'''\n",
    "        euclidean_distance_of_neighbour = kNearestNeighbours.euclideanDistances[indexToBe_searched][neighbour]\n",
    "\n",
    "        '''Find the result for each neighbour'''\n",
    "        results.append(float(result))\n",
    "\n",
    "        euclidean_distance_of_neighbours.append(float(euclidean_distance_of_neighbour))\n",
    "\n",
    "    predicted_results_based_on_weightedDistance.append([kNearestNeighbours.generate_pred_based_on_weightedDistance(\n",
    "        np.array(results), np.array(euclidean_distance_of_neighbours))])\n",
    "\n",
    "'''Append the obtained prediction results to the test data for convenience'''\n",
    "final_test_result = np.append(kNearestNeighbours.testData, predicted_results_based_on_weightedDistance, axis=1)\n",
    "\n",
    "'''Calculate accuracy based on predictions'''\n",
    "accuracy_by_distance_weighted = kNearestNeighbours.calculate_accuracy(final_test_result[:, [-2]],\n",
    "                                                                      final_test_result[:, [-1]])\n",
    "\n",
    "\n",
    "print('KNN Distance Weighted -Classification for k={} accuracy ==>{}'.format(k,accuracy_by_distance_weighted))"
   ]
  },
  {
   "cell_type": "markdown",
   "metadata": {},
   "source": [
    "* The above code provides an accuracy of 92.7% for k=10"
   ]
  },
  {
   "cell_type": "markdown",
   "metadata": {},
   "source": [
    "## Part 2 (B)- Improving the accuracy of the model"
   ]
  },
  {
   "cell_type": "code",
   "execution_count": 2,
   "metadata": {},
   "outputs": [
    {
     "name": "stdout",
     "output_type": "stream",
     "text": [
      "Max Accuracy Normal =93.10000000000001  Distance Weighted=93.0\n"
     ]
    },
    {
     "data": {
      "image/png": "[encoded data removed]",
      "text/plain": [
       "<Figure size 432x288 with 1 Axes>"
      ]
     },
     "metadata": {
      "needs_background": "light"
     },
     "output_type": "display_data"
    }
   ],
   "source": [
    "import numpy as np\n",
    "import matplotlib.pyplot as plt\n",
    "from clyent import color\n",
    "\n",
    "\n",
    "class KNearestNeighbours:\n",
    "    def __init__(self, __trainingDataFile, __testDataFile, a_factor=3, algoName=1):\n",
    "        self.a_factor = a_factor\n",
    "        self.weight = 10000\n",
    "        self.trainingDataFile = __trainingDataFile\n",
    "        self.testDataFile = __testDataFile\n",
    "        self.trainingData = np.array([])\n",
    "        self.testData = np.array([])\n",
    "        self.distances = np.array([])\n",
    "        self.sortedDistances = np.array([])\n",
    "        self.algoName = algoName\n",
    "        self.readInstances()\n",
    "\n",
    "    def readInstances(self):\n",
    "        self.trainingData = np.genfromtxt(self.trainingDataFile, delimiter=',', dtype=float)\n",
    "        self.testData = np.genfromtxt(self.testDataFile, delimiter=',', dtype=float)\n",
    "\n",
    "    def viewData(self):\n",
    "        self.updateDistances()\n",
    "\n",
    "    def calculateDistances(self, trainingInstancesMatrix, singlQueryPoint):\n",
    "        if self.algoName == 3:\n",
    "            data, sorted_data = self.calculateDistances_minowski(trainingInstancesMatrix, singlQueryPoint)\n",
    "            return data, sorted_data\n",
    "\n",
    "        elif self.algoName == 2:\n",
    "            data, sorted_data = self.calculateDistances_manhattan(trainingInstancesMatrix, singlQueryPoint)\n",
    "            return data, sorted_data\n",
    "\n",
    "        elif self.algoName == 1:\n",
    "            data, sorted_data = self.calculateDistances_Euclidean(trainingInstancesMatrix, singlQueryPoint)\n",
    "            return data, sorted_data\n",
    "\n",
    "    def calculateDistances_Euclidean(self, trainingInstancesMatrix, singlQueryPoint):\n",
    "        data = np.sqrt(np.sum((trainingInstancesMatrix - singlQueryPoint) ** 2, axis=1))\n",
    "        sorted_data = np.argsort(data)\n",
    "        return data, sorted_data\n",
    "\n",
    "    def calculateDistances_minowski(self, trainingInstancesMatrix, singlQueryPoint):\n",
    "        mink_sum = np.sum(np.power(np.absolute(trainingInstancesMatrix - singlQueryPoint), kNearestNeighbours.a_factor),\n",
    "                          axis=1)\n",
    "        data = np.power(mink_sum, (1 / kNearestNeighbours.a_factor))\n",
    "        sorted_data = np.argsort(data)\n",
    "        return data, sorted_data\n",
    "\n",
    "    def calculateDistances_manhattan(self, trainingInstancesMatrix, singlQueryPoint):\n",
    "        data = np.sum(np.absolute(trainingInstancesMatrix - singlQueryPoint), axis=1)\n",
    "        sorted_data = np.argsort(data)\n",
    "        return data, sorted_data\n",
    "\n",
    "    def updateDistances(self):\n",
    "        distances = []\n",
    "        sortedDistances = []\n",
    "        for i in range(0, np.shape(self.testData)[0]):\n",
    "            d, sd = self.calculateDistances(self.trainingData[:, :-1], self.testData[i, :-1])\n",
    "            distances.append(d)\n",
    "            sortedDistances.append(sd)\n",
    "            i += 1\n",
    "        self.distances = np.array(distances)\n",
    "        self.sortedDistances = np.array(sortedDistances)\n",
    "\n",
    "    def CountFrequency(self, my_list):\n",
    "        '''Returns the value of the majority neighbours'''\n",
    "        freq = {}\n",
    "        for item in my_list:\n",
    "            if (item in freq):\n",
    "                freq[item] += 1\n",
    "            else:\n",
    "                freq[item] = 1\n",
    "        i = 0\n",
    "        max_count = 0\n",
    "        for key, value in freq.items():\n",
    "            if value > i:\n",
    "                i = value\n",
    "                max_count = key\n",
    "        return max_count\n",
    "\n",
    "    def calculate_accuracy(self, expected_results, predicted_results):\n",
    "        indexes = np.where(expected_results == predicted_results)\n",
    "\n",
    "        good_pred_count = len(indexes[0])\n",
    "        accuracy = (good_pred_count / np.shape(kNearestNeighbours.testData)[0]) * 100\n",
    "        return accuracy\n",
    "\n",
    "    def generate_pred_based_on_weightedDistance(self, results, euclidean_distance_of_neighbours):\n",
    "        '''Find all the indices belonging to class 0,1,2 '''\n",
    "        zero_pt_indexes = np.where(results == 0.)\n",
    "        one_pt_indexes = np.where(results == 1.)\n",
    "        two_pt_indexes = np.where(results == 2.)\n",
    "        \n",
    "        '''Since this is a minimization problem , invert all the distances'''\n",
    "        inverted_euclidean_distance_of_neighbours = 1 / euclidean_distance_of_neighbours\n",
    "        \n",
    "        '''Find the sum of distances of each class '''\n",
    "        zero_sum = np.sum(inverted_euclidean_distance_of_neighbours[zero_pt_indexes])\n",
    "        one_sum = np.sum(inverted_euclidean_distance_of_neighbours[one_pt_indexes])\n",
    "        two_sum = np.sum(inverted_euclidean_distance_of_neighbours[two_pt_indexes])\n",
    "        list_sums = [zero_sum, one_sum, two_sum]\n",
    "        \n",
    "        '''Indentify the nearest class of neighbours'''\n",
    "        index_of_max_sum = list_sums.index(max(list_sums))\n",
    "\n",
    "        if index_of_max_sum == 0:\n",
    "            return 0.\n",
    "\n",
    "        elif index_of_max_sum == 1:\n",
    "            return 1.\n",
    "\n",
    "        elif index_of_max_sum == 2:\n",
    "            return 2.\n",
    "\n",
    "\n",
    "'''**********************************************Do your Configurations Here *******************************************************************************'''\n",
    "'''Possible Algo Codes : \n",
    "        1==Euclidean\n",
    "        2==Manhattan\n",
    "        3==Minowski'''\n",
    "kNearestNeighbours = KNearestNeighbours(\"trainingData.csv\", \"testData.csv\",a_factor=1,algoName=1)\n",
    "kNearestNeighbours.viewData()\n",
    "'''*********************************************************************************************************************************************************'''\n",
    "\n",
    "\n",
    "\n",
    "\n",
    "\n",
    "\n",
    "'''where the prediction result of each test instance will be stored'''\n",
    "accuracies_by_majority = []\n",
    "accuracies_by_distance_weighted = []\n",
    "\n",
    "'''Find the euclidean distance from each instance in test data and find the nearest train instances'''\n",
    "\n",
    "'''Run for multiple values of k'''\n",
    "for k in range(1, 25):\n",
    "    predicted_results = []\n",
    "    predicted_results_based_on_weightedDistance = []\n",
    "    for indexToBe_searched in range(np.shape(kNearestNeighbours.testData)[0]):\n",
    "        list_of_neighbours = kNearestNeighbours.sortedDistances[indexToBe_searched][:k]\n",
    "\n",
    "        # print('Here is the list of closest indexes:',lis_of_closest_index)\n",
    "        results = []\n",
    "        euclidean_distance_of_neighbours = []\n",
    "        for neighbour in list_of_neighbours:\n",
    "            result = kNearestNeighbours.trainingData[neighbour][-1:]\n",
    "\n",
    "            '''Find the distances between the target instance and the neighbours for weighted distance calculations'''\n",
    "            euclidean_distance_of_neighbour = kNearestNeighbours.distances[indexToBe_searched][neighbour]\n",
    "\n",
    "            '''Find the result for each neighbour'''\n",
    "            results.append(float(result))\n",
    "\n",
    "            euclidean_distance_of_neighbours.append(float(euclidean_distance_of_neighbour))\n",
    "\n",
    "        # print('Here are the results:',results)\n",
    "\n",
    "        '''predict the result based on majority'''\n",
    "        predicted_results.append([kNearestNeighbours.CountFrequency(results)])\n",
    "\n",
    "        predicted_results_based_on_weightedDistance.append(\n",
    "            [kNearestNeighbours.generate_pred_based_on_weightedDistance(np.array(results),\n",
    "                                                                        np.array(euclidean_distance_of_neighbours))])\n",
    "\n",
    "    '''Append the obtained prediction results to the test data for convenience'''\n",
    "    final_test_result = np.append(kNearestNeighbours.testData, predicted_results, axis=1)\n",
    "    final_test_result = np.append(final_test_result, predicted_results_based_on_weightedDistance, axis=1)\n",
    "\n",
    "    '''Caluclating the accuracy of predications for both Normal KNN and Distance Weighted KNN'''\n",
    "    accuracy_by_majority = kNearestNeighbours.calculate_accuracy(final_test_result[:, [-3]], final_test_result[:, [-2]])\n",
    "    accuracy_by_distance_weighted = kNearestNeighbours.calculate_accuracy(final_test_result[:, [-3]],\n",
    "                                                                          final_test_result[:, [-1]])\n",
    "    accuracies_by_majority.append(accuracy_by_majority)\n",
    "    accuracies_by_distance_weighted.append(accuracy_by_distance_weighted)\n",
    "\n",
    "'''Plotting the graphs'''\n",
    "print('Max Accuracy Normal ={}  Distance Weighted={}'.format(max(accuracies_by_majority) , max(accuracies_by_distance_weighted)))\n",
    "plt.plot(accuracies_by_majority, 'g', label='Performance of a normal KNN', linewidth=2)\n",
    "plt.plot(accuracies_by_distance_weighted, 'r', label='Performance of a distance weighted KNN', linewidth=2)\n",
    "plt.xlabel('number of neighbours')\n",
    "plt.ylabel('accuracy')\n",
    "plt.title('Accuracy v/s Number of Neighbours over k[1:25] with Euclidean Distance')\n",
    "plt.legend()\n",
    "plt.grid(True, color='k')\n",
    "plt.show()\n"
   ]
  },
  {
   "cell_type": "markdown",
   "metadata": {},
   "source": [
    "## Below graph shows the accuracy performance of normal KNN over Distance Weighted KNN for various   Distance Measurement techniques\n",
    "\n",
    "* **Manhattan Distance**"
   ]
  },
  {
   "cell_type": "markdown",
   "metadata": {},
   "source": [
    "<img src=\"https://www.dropbox.com/s/b5wio85nqazwnps/KNN_over_DistanceWeighted__Classsification_Accuracy_Performance_Manhattan.png?raw=1\" alt=\"data1\" border=\"0\">"
   ]
  },
  {
   "cell_type": "markdown",
   "metadata": {},
   "source": [
    "* **Minowski**"
   ]
  },
  {
   "cell_type": "markdown",
   "metadata": {},
   "source": [
    "\n",
    "* **Plotting Minowski at a A factor Range from 3 to 20 for k=10**"
   ]
  },
  {
   "cell_type": "markdown",
   "metadata": {},
   "source": [
    "<img src=\"https://www.dropbox.com/s/tjamti3i8bx0ebu/peformance_Minnowski_overVarious_AFactor.jpg?raw=1\" alt=\"data1\" border=\"0\">"
   ]
  },
  {
   "cell_type": "markdown",
   "metadata": {},
   "source": [
    "* **As from the above graph it is evident that Minowksi gives most optimal results for A-factor =3**\n"
   ]
  },
  {
   "cell_type": "markdown",
   "metadata": {},
   "source": [
    "* **Plotting the below graph of Minowski for Normal v/s Distance Weighted KNN at A-Factor=3**"
   ]
  },
  {
   "cell_type": "markdown",
   "metadata": {},
   "source": [
    "<img src=\"https://www.dropbox.com/s/204ze9z83z8pqhq/KNN_over_DistanceWeighted__Classsification_Accuracy_Performance_Minowski.png?raw=1\" alt=\"data1\" border=\"0\">"
   ]
  },
  {
   "cell_type": "markdown",
   "metadata": {},
   "source": [
    "* **Euclidean**"
   ]
  },
  {
   "cell_type": "markdown",
   "metadata": {},
   "source": [
    "<img src=\"https://www.dropbox.com/s/xasjye09kxado1r/KNN_over_DistanceWeighted__Classsification_Accuracy_Performance_Euclidean.png?raw=1\" alt=\"data1\" border=\"0\">"
   ]
  },
  {
   "cell_type": "markdown",
   "metadata": {},
   "source": [
    "\n",
    "## From the above observations we conclude that below hyper params that would provide the most optimal result\n",
    "* Since we have found very comparable results for both Normal KNN[93.1% at K=10] and Distance Weighted KNN[93% at K=9] we can further evaluate both the algorithms with more test data.\n",
    "\n",
    "\n",
    "* Normal KNN\n",
    "    * **Accuracy**            : 93.1\n",
    "    * **Distance Algorithm**  : Euclidean\n",
    "    * **Value of K**          : 10\n",
    "    \n",
    "* Distance Weighted KNN\n",
    "    * **Accuracy**            : 93.0\n",
    "    * **Distance Algorithm**  : Euclidean\n",
    "    * **Value of K**          : 9\n",
    "    "
   ]
  },
  {
   "cell_type": "markdown",
   "metadata": {},
   "source": [
    "## Doing it!! The efficient way\n",
    "\n",
    "## Grid Search"
   ]
  },
  {
   "cell_type": "markdown",
   "metadata": {},
   "source": [
    "* Above is a manual way of finding the right set of Hyper Params that would provide most optimum results.However, The same can be used using a feature of SCIKITLEARN libraby callled as GRID SEARCH. \n",
    "\n",
    "* As shown below ,using this feature we can pass all the possible values of Hyper params and allow the library to analyze which set of Hyper Params would yeild the most optimum results.\n",
    "\n",
    "* Below are the KNN hyper params offered by sklearn.modelselection gridsearch:\n",
    "\n",
    "    * **n_neighbors** - here we can pass a list of  neighbour count we want to test.\n",
    "\n",
    "    * **weights**  - Which can be set to 'uniform'or 'distace'.'Uniform' will consider the normal KNN where as       'distance' shall consider the distance weighted KNN.\n",
    "\n",
    "    * **metric** - This gives us a choice of which distance evaluation metric is to used among - Euclidean,Minowski and Manhattan\n",
    "\n",
    "\n",
    "* Below are the number of choices available for each param :\n",
    "n_neighbors = 5\n",
    "weights\t\t= 2\n",
    "metric\t\t= 2\n",
    "\n",
    "* based of above numbers the grid search shall generate 20 (5*2*2=20) combinations and shall return us the most optimum set of hyper params.\n",
    "\n",
    "\n",
    "Below is how one can evaluate the best"
   ]
  },
  {
   "cell_type": "markdown",
   "metadata": {},
   "source": [
    "* Pass the various values of the KNN hyper params in a dictionary"
   ]
  },
  {
   "cell_type": "code",
   "execution_count": 3,
   "metadata": {},
   "outputs": [],
   "source": [
    "from sklearn.model_selection import GridSearchCV\n",
    "\n",
    "grid_parameters = {\n",
    "    'n_neighbors': [1, 2, 4, 6, 8, 10],\n",
    "    'weights': ['unifrom', 'distance'],\n",
    "\n",
    "    'metric': ['manhattan', 'euclidean']\n",
    "\n",
    "}"
   ]
  },
  {
   "cell_type": "markdown",
   "metadata": {},
   "source": [
    "* Provide the name of the classsifier,The params we created above,\n",
    "  cv=cross validation which states the number of times you wan tot perform croos validation(higher the better)\n",
    "  n_jobs= with -1 we ask the library to utilize all the machine resources to speed up the computation.  "
   ]
  },
  {
   "cell_type": "code",
   "execution_count": 5,
   "metadata": {},
   "outputs": [],
   "source": [
    "\n",
    "grid_search = GridSearchCV(\n",
    "    KNeighborsClassifier(),\n",
    "    grid_parameters,\n",
    "    verbose=1,\n",
    "    cv=1,\n",
    "    n_jobs=-1\n",
    ")\n"
   ]
  },
  {
   "cell_type": "code",
   "execution_count": 6,
   "metadata": {},
   "outputs": [
    {
     "ename": "NameError",
     "evalue": "name 'X_train' is not defined",
     "output_type": "error",
     "traceback": [
      "\u001b[1;31m---------------------------------------------------------------------------\u001b[0m",
      "\u001b[1;31mNameError\u001b[0m                                 Traceback (most recent call last)",
      "\u001b[1;32m<ipython-input-6-1eb11b0370b8>\u001b[0m in \u001b[0;36m<module>\u001b[1;34m\u001b[0m\n\u001b[1;32m----> 1\u001b[1;33m \u001b[0mgs_results\u001b[0m \u001b[1;33m=\u001b[0m \u001b[0mgrid_search\u001b[0m\u001b[1;33m.\u001b[0m\u001b[0mfit\u001b[0m\u001b[1;33m(\u001b[0m\u001b[0mX_train\u001b[0m\u001b[1;33m,\u001b[0m \u001b[0my_train\u001b[0m\u001b[1;33m)\u001b[0m\u001b[1;33m\u001b[0m\u001b[1;33m\u001b[0m\u001b[0m\n\u001b[0m",
      "\u001b[1;31mNameError\u001b[0m: name 'X_train' is not defined"
     ]
    }
   ],
   "source": [
    "gs_results = grid_search.fit(X_train, y_train)"
   ]
  },
  {
   "cell_type": "markdown",
   "metadata": {},
   "source": [
    "* below lines can be used to analyze the results generated by the grid search."
   ]
  },
  {
   "cell_type": "raw",
   "metadata": {},
   "source": [
    "gs_results.best_score_\n",
    "gs_results.best_estimator_\n",
    "gs_results.best_params_"
   ]
  },
  {
   "cell_type": "code",
   "execution_count": null,
   "metadata": {},
   "outputs": [],
   "source": []
  },
  {
   "cell_type": "code",
   "execution_count": null,
   "metadata": {},
   "outputs": [],
   "source": []
  }
 ],
 "metadata": {
  "kernelspec": {
   "display_name": "Python 3",
   "language": "python",
   "name": "python3"
  },
  "language_info": {
   "codemirror_mode": {
    "name": "ipython",
    "version": 3
   },
   "file_extension": ".py",
   "mimetype": "text/x-python",
   "name": "python",
   "nbconvert_exporter": "python",
   "pygments_lexer": "ipython3",
   "version": "3.7.5"
  }
 },
 "nbformat": 4,
 "nbformat_minor": 2
}
