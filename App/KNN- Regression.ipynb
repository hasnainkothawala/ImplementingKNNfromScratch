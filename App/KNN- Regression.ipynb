{
 "cells": [
  {
   "cell_type": "markdown",
   "metadata": {},
   "source": [
    "## K Nearest Neighbours : Regression  Problem\n",
    "\n",
    "## Part 3\n",
    "\n",
    "\n"
   ]
  },
  {
   "cell_type": "markdown",
   "metadata": {},
   "source": [
    "\n",
    "\n",
    "\n",
    "\n",
    "\n",
    "## Part 3-A - \n",
    "* **Modify the distance weighted KNN code in PART 2 to solve a Regression Problem.And generate accuracy using R^2 method.**"
   ]
  },
  {
   "cell_type": "code",
   "execution_count": 4,
   "metadata": {},
   "outputs": [
    {
     "name": "stdout",
     "output_type": "stream",
     "text": [
      "Max Accuracy for Regressor =85.06560730414083\n"
     ]
    },
    {
     "data": {
      "image/png": "[encoded data removed]",
      "text/plain": [
       "<Figure size 432x288 with 1 Axes>"
      ]
     },
     "metadata": {
      "needs_background": "light"
     },
     "output_type": "display_data"
    }
   ],
   "source": [
    "import numpy as np\n",
    "import matplotlib.pyplot as plt\n",
    "\n",
    "\n",
    "class KNearestNeighbours:\n",
    "    def __init__(self, __trainingDataFile, __testDataFile):\n",
    "        self.weight = 10000\n",
    "        self.trainingDataFile = __trainingDataFile\n",
    "        self.testDataFile = __testDataFile\n",
    "        self.trainingData = np.array([])\n",
    "        self.testData = np.array([])\n",
    "        self.euclideanDistances = np.array([])\n",
    "        self.euclideanDistancesSorted = np.array([])\n",
    "        self.readInstances()\n",
    "\n",
    "    def readInstances(self):\n",
    "\n",
    "        self.trainingData = np.genfromtxt(self.trainingDataFile, delimiter=',', dtype=float)\n",
    "        self.testData = np.genfromtxt(self.testDataFile, delimiter=',', dtype=float)\n",
    "\n",
    "    def viewData(self):\n",
    "        self.updateDistances()\n",
    "        \n",
    "        \n",
    "    '''Calculates the distance between each training set instance and Target Test Instance  '''     \n",
    "    def calculateDistances(self, trainingInstancesMatrix, singlQueryPoint):\n",
    "        data = np.sqrt(np.sum((trainingInstancesMatrix - singlQueryPoint) ** 2, axis=1))\n",
    "        sorted_data = np.argsort(data)\n",
    "        return data, sorted_data\n",
    "\n",
    "    def updateDistances(self):\n",
    "        distances = []\n",
    "        sortedDistances = []\n",
    "        for i in range(0, np.shape(self.testData)[0]):\n",
    "            d, sd = self.calculateDistances(self.trainingData[:, :-1], self.testData[i, :-1])\n",
    "            distances.append(d)\n",
    "            sortedDistances.append(sd)\n",
    "            i += 1\n",
    "        self.euclideanDistances = np.array(distances)\n",
    "        self.euclideanDistancesSorted = np.array(sortedDistances)\n",
    "\n",
    "    '''Predict the value for each test instance'''\n",
    "    def generate_pred_for_regression_problem(self, results, euclidean_distance_of_neighbours):\n",
    "\n",
    "        invsquared_eucl_distance_bet_neighbours = 1 / np.square(euclidean_distance_of_neighbours)\n",
    "\n",
    "        predicted_value = np.sum(invsquared_eucl_distance_bet_neighbours * results) / np.sum(\n",
    "            invsquared_eucl_distance_bet_neighbours)\n",
    "        return predicted_value\n",
    "\n",
    "    '''Calculate the accuracy based on the R^2 method'''\n",
    "    def calculate_accuracy_for_Reg_prob(self, expected_results, predicted_results):\n",
    "\n",
    "        num = np.sum(np.square(predicted_results - expected_results))\n",
    "        deno = np.sum(np.square(np.average(expected_results) - expected_results))\n",
    "        final_accuracy = 1 - (num / deno)\n",
    "        return final_accuracy * 100\n",
    "\n",
    "'''**********************************************Do your Configurations Here *******************************************************************************'''\n",
    "kNearestNeighbours = KNearestNeighbours(\"data/regression/trainingData.csv\", \"data/regression/testData.csv\")\n",
    "kNearestNeighbours.viewData()\n",
    "'''**********************************************************************************************************************************************************'''\n",
    "# Select the number of neighbours\n",
    "k_list = range(1, 50)\n",
    "accuracy_list = []\n",
    "for k in k_list:\n",
    "\n",
    "    '''where the prediction result of each test instance will be stored'''\n",
    "    predicted_results = []\n",
    "    predicted_results_for_Reg_problems = []\n",
    "\n",
    "    '''Find the euclidean distance from each instance in test data and find the nearest train instances'''\n",
    "    for indexToBe_searched in range(np.shape(kNearestNeighbours.testData)[0]):\n",
    "        list_of_neighbours = kNearestNeighbours.euclideanDistancesSorted[indexToBe_searched][:k]\n",
    "        results = []\n",
    "        euclidean_distance_of_neighbours = []\n",
    "        for neighbour in list_of_neighbours:\n",
    "            result = kNearestNeighbours.trainingData[neighbour][-1:]\n",
    "\n",
    "            '''Find the distances between the target instance and the neighbours'''\n",
    "            euclidean_distance_of_neighbour = kNearestNeighbours.euclideanDistances[indexToBe_searched][neighbour]\n",
    "\n",
    "            '''Find the result for each neighbour'''\n",
    "            results.append(float(result))\n",
    "\n",
    "            euclidean_distance_of_neighbours.append(float(euclidean_distance_of_neighbour))\n",
    "\n",
    "        '''predict the result based on majority'''\n",
    "        predicted_results_for_Reg_problems.append(\n",
    "            [kNearestNeighbours.generate_pred_for_regression_problem(np.array(results), np.array(euclidean_distance_of_neighbours))])\n",
    "\n",
    "    '''Append the obtained prediction results to the test data for convenience'''\n",
    "    final_test_result = np.append(kNearestNeighbours.testData, predicted_results_for_Reg_problems, axis=1)\n",
    "    \n",
    "    '''Calculating the accracy'''\n",
    "    accuracy_for_Reg_prob = kNearestNeighbours.calculate_accuracy_for_Reg_prob(final_test_result[:, [-2]], final_test_result[:, [-1]])\n",
    "    accuracy_list.append(accuracy_for_Reg_prob)\n",
    "print('Max Accuracy for Regressor ={}'.format(max(accuracy_list)))\n",
    "\n",
    "'''Plotting the accuracy of the Regressor over multiple value of K '''\n",
    "plt.plot(accuracy_list)\n",
    "plt.xlabel('number of neighbours')\n",
    "plt.ylabel('accuracy')\n",
    "plt.title('Accuracy of KNN Regressor  over k=[1:50]')\n",
    "plt.show()\n",
    "\n",
    "\n"
   ]
  },
  {
   "cell_type": "markdown",
   "metadata": {},
   "source": [
    "* Below is the performance of The KNN regressor over k from 1 to 50"
   ]
  },
  {
   "cell_type": "markdown",
   "metadata": {},
   "source": [
    "<img src=\"https://www.dropbox.com/s/mpua9zuorqk0ub6/performance_KNN_regressor.png?raw=1\" alt=\"data1\" border=\"0\">"
   ]
  },
  {
   "cell_type": "markdown",
   "metadata": {},
   "source": [
    "##  Part 3-B \n",
    "* Explain why equal contribution from Irrelavant or Insignificant variable might cause a Negative impact on the performance of KNN and ways to counter it."
   ]
  },
  {
   "cell_type": "markdown",
   "metadata": {},
   "source": [
    "*  While working with KNN or any other machine learning algorithm it is important that the data is pre processed.\n",
    "Below are the two very important acpects of pre processing.\n",
    "    * Standarization:\n",
    "    * Normalization:\n",
    "\n",
    "* The above two become very critical while implementing KNN algorithm using Euclidean Distance. Below is the formula which is used for calculating Euclidean distance.\n",
    "\n",
    "* **What happens here ?**\n",
    "    * Lets us say every instance in your training and test set as 10 features.All you have to do it to calcualte the distance between Instance1(feature1) and Instance2(feature1) and so on ,for every feature in both the instances.\n",
    "    \n",
    "    * It is quite possible that some of the features in your data might be statistically very significant however some are not very significant.\n",
    "    \n",
    "    * However , Euclidean distance assumes that each feature in your data set is statistically equally important.This has its own ramifications, in the predicted class these statiscally insignnificant features get greater representation while determining the final predicated value(assuming we are solving a regression problem).\n",
    "    \n",
    "    \n",
    " \n",
    "* How to address this ?\n",
    "    * Firstly **standarize** the data to turn the data in to **guassian distribution.**\n",
    "    \n",
    "    * Secondly, **normalize** the data in **between a 0-1 scale** so that the larger numbers do not dominate the smaller ones.    eg. So that Salary does not dominate height in cms\n",
    "    \n",
    "    * Thirdly,it is now important to identify the staistically sihgnificant and statiscally insignificant features.\n",
    "    * **This can be done using **Backward Elimination** technique.**\n",
    "    \n",
    "* Backward Elimination.\n"
   ]
  },
  {
   "cell_type": "markdown",
   "metadata": {},
   "source": [
    "* **Standardization.**\n",
    "    * Standardization is the process of rescaling the features so that they will have Guassian Distribution                     with mean=0 and standard deviation=1\n",
    "      calculated as :\n",
    "                   new value = feature-mean/standard deviation\n",
    "\n",
    "* **Normalization**\n",
    "    * Normalization is also called as min-max scaling.Where in also the features are converted into a range of 0  to 1 (sometimes -1 to 1 ) \n",
    "    * **Drawback**: Normalization is sensitive to outliers. So outliers must be removed before applying normalization.\n",
    "    "
   ]
  },
  {
   "cell_type": "code",
   "execution_count": 5,
   "metadata": {},
   "outputs": [
    {
     "data": {
      "text/plain": [
       "0.8480139294676208"
      ]
     },
     "execution_count": 5,
     "metadata": {},
     "output_type": "execute_result"
    }
   ],
   "source": [
    "'''Below is the code for standardization'''\n",
    "import pandas as pd\n",
    "from sklearn.neighbors import KNeighborsRegressor\n",
    "from sklearn import preprocessing\n",
    "\n",
    "from sklearn.metrics import r2_score\n",
    "import matplotlib.pyplot as plt\n",
    "import statsmodels.formula.api as sm\n",
    "\n",
    "train = pd.read_csv(\"data/regression/trainingData.csv\",delimiter=',',header= None)  # load train data\n",
    "test = pd.read_csv(\"data/regression/testData.csv\",delimiter=',',header= None)  # load test data\n",
    "X_train=train.iloc[:,:-1]\n",
    "y_train=train.iloc[:,-1]\n",
    "X_test=test.iloc[:,:-1]\n",
    "y_test=test.iloc[:,-1]\n",
    "\n",
    "'''Standarize the features in training and test set'''\n",
    "scaler = preprocessing.StandardScaler()\n",
    "X_train = scaler.fit_transform(X_train)\n",
    "X_test = scaler.transform(X_test)\n",
    "\n",
    "model = KNeighborsRegressor(n_neighbors=10, n_jobs=4)\n",
    "model.fit(X_train, y_train)\n",
    "predict=model.predict(X_test)\n",
    "r2_score(y_test,predict)"
   ]
  },
  {
   "cell_type": "markdown",
   "metadata": {},
   "source": [
    "Below Methods can be used to eliminate statistically  insignificant features that influence the results.\n",
    "\n",
    "1. Kselectbest\n",
    "2. Backward Elimination\n",
    "\n",
    "We shall discuss **Backward Elimination** as a way ahead."
   ]
  },
  {
   "cell_type": "markdown",
   "metadata": {},
   "source": [
    "* **Backward Elimination**\n",
    "\n",
    "* it a process of eliminating the features that are reported to be beyond the pre dicided bench mark(P value)\n",
    "\n",
    "* What is **p-value**?\n",
    "     This number defines how probable is it to not get the next result close to the current one.This video clearly explains \n",
    "    the concept.Basically it shows the level of confidence you have for that result to fail. The lesser the better.\n",
    "    \n",
    "* **Backward eliminnation in 4 simple steps:**\n",
    "        1.Select a significance level(p-value=5)\n",
    "        2.Fit a model with all features.\n",
    "        3.Consider the feature with higest p value.\n",
    "        4.Eliminate that feature.\n",
    "        5.Fit the modelwith the new features.Continue until all features are below the p value.\n",
    "        "
   ]
  },
  {
   "cell_type": "markdown",
   "metadata": {},
   "source": [
    "* Below is the code for Backward Elimination\n",
    "    * Below OLS[Ordinary Least Square] can be used to evaluate the accuracy using the summary method and repeated untill all the variables above the p value are eliminated."
   ]
  },
  {
   "cell_type": "code",
   "execution_count": 7,
   "metadata": {},
   "outputs": [
    {
     "name": "stdout",
     "output_type": "stream",
     "text": [
      "                            OLS Regression Results                            \n",
      "==============================================================================\n",
      "Dep. Variable:                     12   R-squared:                       0.001\n",
      "Model:                            OLS   Adj. R-squared:                 -0.000\n",
      "Method:                 Least Squares   F-statistic:                    0.8566\n",
      "Date:                Thu, 12 Dec 2019   Prob (F-statistic):              0.510\n",
      "Time:                        15:33:12   Log-Likelihood:                -41899.\n",
      "No. Observations:                6400   AIC:                         8.381e+04\n",
      "Df Residuals:                    6394   BIC:                         8.385e+04\n",
      "Df Model:                           5                                         \n",
      "Covariance Type:            nonrobust                                         \n",
      "==============================================================================\n",
      "                 coef    std err          t      P>|t|      [0.025      0.975]\n",
      "------------------------------------------------------------------------------\n",
      "const         -0.1885      2.110     -0.089      0.929      -4.324       3.947\n",
      "x1             0.8293      2.131      0.389      0.697      -3.348       5.007\n",
      "x2            -0.2958      2.120     -0.140      0.889      -4.451       3.859\n",
      "x3            -3.8152      2.093     -1.823      0.068      -7.918       0.287\n",
      "x4             1.0195      2.091      0.488      0.626      -3.079       5.118\n",
      "x5             1.6203      2.092      0.774      0.439      -2.481       5.721\n",
      "==============================================================================\n",
      "Omnibus:                        0.535   Durbin-Watson:                   1.972\n",
      "Prob(Omnibus):                  0.765   Jarque-Bera (JB):                0.498\n",
      "Skew:                           0.017   Prob(JB):                        0.780\n",
      "Kurtosis:                       3.026   Cond. No.                         1.04\n",
      "==============================================================================\n",
      "\n",
      "Warnings:\n",
      "[1] Standard Errors assume that the covariance matrix of the errors is correctly specified.\n"
     ]
    }
   ],
   "source": [
    "import pandas as pd\n",
    "from sklearn.neighbors import KNeighborsRegressor\n",
    "from sklearn.metrics import r2_score\n",
    "import matplotlib.pyplot as plt\n",
    "import statsmodels.formula.api as sm\n",
    "\n",
    "train = pd.read_csv(\"data/regression/trainingData.csv\",delimiter=',',header= None)  # load train data\n",
    "test = pd.read_csv(\"data/regression/testData.csv\",delimiter=',',header= None)  # load test data\n",
    "X_train=train.iloc[:,:-1]\n",
    "y_train=train.iloc[:,-1]\n",
    "X_test=test.iloc[:,:-1]\n",
    "y_test=test.iloc[:,-1]\n",
    "model = KNeighborsRegressor(n_neighbors=10, n_jobs=4)\n",
    "model.fit(X_train, y_train)\n",
    "predict=model.predict(X_test)\n",
    "r2_score(y_test,predict)\n",
    "\n",
    "import numpy as np\n",
    "X_train = np.append (arr=np.ones([X_train.shape[0],1]).astype(int), values = X_train, axis = 1)\n",
    "\n",
    "import statsmodels.formula.api as sm\n",
    "X_opt = [0,1,2,3,4,6]\n",
    "regressor = sm.OLS(y_train, X_train[:,X_opt]).fit()\n",
    "print(regressor.summary())"
   ]
  },
  {
   "cell_type": "code",
   "execution_count": 12,
   "metadata": {},
   "outputs": [
    {
     "ename": "NameError",
     "evalue": "name 'dataframe' is not defined",
     "output_type": "error",
     "traceback": [
      "\u001b[1;31m---------------------------------------------------------------------------\u001b[0m",
      "\u001b[1;31mNameError\u001b[0m                                 Traceback (most recent call last)",
      "\u001b[1;32m<ipython-input-12-fa9b653918f6>\u001b[0m in \u001b[0;36m<module>\u001b[1;34m\u001b[0m\n\u001b[1;32m----> 1\u001b[1;33m \u001b[0mdataframe\u001b[0m\u001b[1;33m(\u001b[0m\u001b[0mX_train\u001b[0m\u001b[1;33m)\u001b[0m\u001b[1;33m\u001b[0m\u001b[1;33m\u001b[0m\u001b[0m\n\u001b[0m",
      "\u001b[1;31mNameError\u001b[0m: name 'dataframe' is not defined"
     ]
    }
   ],
   "source": [
    "dataframe(X_train)"
   ]
  },
  {
   "cell_type": "code",
   "execution_count": 8,
   "metadata": {},
   "outputs": [
    {
     "name": "stdout",
     "output_type": "stream",
     "text": [
      "                            OLS Regression Results                            \n",
      "==============================================================================\n",
      "Dep. Variable:                     12   R-squared:                       0.000\n",
      "Model:                            OLS   Adj. R-squared:                 -0.000\n",
      "Method:                 Least Squares   F-statistic:                    0.2397\n",
      "Date:                Thu, 12 Dec 2019   Prob (F-statistic):              0.916\n",
      "Time:                        15:33:16   Log-Likelihood:                -41900.\n",
      "No. Observations:                6400   AIC:                         8.381e+04\n",
      "Df Residuals:                    6395   BIC:                         8.384e+04\n",
      "Df Model:                           4                                         \n",
      "Covariance Type:            nonrobust                                         \n",
      "==============================================================================\n",
      "                 coef    std err          t      P>|t|      [0.025      0.975]\n",
      "------------------------------------------------------------------------------\n",
      "const         -0.2330      2.110     -0.110      0.912      -4.369       3.903\n",
      "x1             0.8016      2.131      0.376      0.707      -3.377       4.980\n",
      "x2            -0.2158      2.120     -0.102      0.919      -4.371       3.939\n",
      "x3             1.0203      2.091      0.488      0.626      -3.079       5.120\n",
      "x4             1.5658      2.092      0.748      0.454      -2.536       5.667\n",
      "==============================================================================\n",
      "Omnibus:                        0.524   Durbin-Watson:                   1.971\n",
      "Prob(Omnibus):                  0.770   Jarque-Bera (JB):                0.488\n",
      "Skew:                           0.018   Prob(JB):                        0.783\n",
      "Kurtosis:                       3.024   Cond. No.                         1.04\n",
      "==============================================================================\n",
      "\n",
      "Warnings:\n",
      "[1] Standard Errors assume that the covariance matrix of the errors is correctly specified.\n"
     ]
    }
   ],
   "source": [
    "X_opt_new = [0,1,2,4,6]\n",
    "regressor = sm.OLS(y_train, X_train[:,X_opt_new]).fit()\n",
    "print(regressor.summary())"
   ]
  },
  {
   "cell_type": "code",
   "execution_count": 9,
   "metadata": {},
   "outputs": [
    {
     "ename": "TypeError",
     "evalue": "'(slice(None, None, None), [0, 1, 2, 4, 6])' is an invalid key",
     "output_type": "error",
     "traceback": [
      "\u001b[1;31m---------------------------------------------------------------------------\u001b[0m",
      "\u001b[1;31mTypeError\u001b[0m                                 Traceback (most recent call last)",
      "\u001b[1;32m<ipython-input-9-b78ff1fdc255>\u001b[0m in \u001b[0;36m<module>\u001b[1;34m\u001b[0m\n\u001b[0;32m      1\u001b[0m \u001b[0mmodel\u001b[0m \u001b[1;33m=\u001b[0m \u001b[0mKNeighborsRegressor\u001b[0m\u001b[1;33m(\u001b[0m\u001b[0mn_neighbors\u001b[0m\u001b[1;33m=\u001b[0m\u001b[1;36m10\u001b[0m\u001b[1;33m,\u001b[0m \u001b[0mn_jobs\u001b[0m\u001b[1;33m=\u001b[0m\u001b[1;36m4\u001b[0m\u001b[1;33m)\u001b[0m\u001b[1;33m\u001b[0m\u001b[1;33m\u001b[0m\u001b[0m\n\u001b[0;32m      2\u001b[0m \u001b[0mmodel\u001b[0m\u001b[1;33m.\u001b[0m\u001b[0mfit\u001b[0m\u001b[1;33m(\u001b[0m\u001b[0mX_train\u001b[0m\u001b[1;33m[\u001b[0m\u001b[1;33m:\u001b[0m\u001b[1;33m,\u001b[0m\u001b[0mX_opt_new\u001b[0m\u001b[1;33m]\u001b[0m\u001b[1;33m,\u001b[0m \u001b[0my_train\u001b[0m\u001b[1;33m)\u001b[0m\u001b[1;33m\u001b[0m\u001b[1;33m\u001b[0m\u001b[0m\n\u001b[1;32m----> 3\u001b[1;33m \u001b[0mpredict\u001b[0m\u001b[1;33m=\u001b[0m\u001b[0mmodel\u001b[0m\u001b[1;33m.\u001b[0m\u001b[0mpredict\u001b[0m\u001b[1;33m(\u001b[0m\u001b[0mX_test\u001b[0m\u001b[1;33m[\u001b[0m\u001b[1;33m:\u001b[0m\u001b[1;33m,\u001b[0m\u001b[0mX_opt_new\u001b[0m\u001b[1;33m]\u001b[0m\u001b[1;33m)\u001b[0m\u001b[1;33m\u001b[0m\u001b[1;33m\u001b[0m\u001b[0m\n\u001b[0m\u001b[0;32m      4\u001b[0m \u001b[0mr2_score\u001b[0m\u001b[1;33m(\u001b[0m\u001b[0my_test\u001b[0m\u001b[1;33m,\u001b[0m\u001b[0mpredict\u001b[0m\u001b[1;33m)\u001b[0m\u001b[1;33m\u001b[0m\u001b[1;33m\u001b[0m\u001b[0m\n",
      "\u001b[1;32m~\\Anaconda3\\lib\\site-packages\\pandas\\core\\frame.py\u001b[0m in \u001b[0;36m__getitem__\u001b[1;34m(self, key)\u001b[0m\n\u001b[0;32m   2925\u001b[0m             \u001b[1;32mif\u001b[0m \u001b[0mself\u001b[0m\u001b[1;33m.\u001b[0m\u001b[0mcolumns\u001b[0m\u001b[1;33m.\u001b[0m\u001b[0mnlevels\u001b[0m \u001b[1;33m>\u001b[0m \u001b[1;36m1\u001b[0m\u001b[1;33m:\u001b[0m\u001b[1;33m\u001b[0m\u001b[1;33m\u001b[0m\u001b[0m\n\u001b[0;32m   2926\u001b[0m                 \u001b[1;32mreturn\u001b[0m \u001b[0mself\u001b[0m\u001b[1;33m.\u001b[0m\u001b[0m_getitem_multilevel\u001b[0m\u001b[1;33m(\u001b[0m\u001b[0mkey\u001b[0m\u001b[1;33m)\u001b[0m\u001b[1;33m\u001b[0m\u001b[1;33m\u001b[0m\u001b[0m\n\u001b[1;32m-> 2927\u001b[1;33m             \u001b[0mindexer\u001b[0m \u001b[1;33m=\u001b[0m \u001b[0mself\u001b[0m\u001b[1;33m.\u001b[0m\u001b[0mcolumns\u001b[0m\u001b[1;33m.\u001b[0m\u001b[0mget_loc\u001b[0m\u001b[1;33m(\u001b[0m\u001b[0mkey\u001b[0m\u001b[1;33m)\u001b[0m\u001b[1;33m\u001b[0m\u001b[1;33m\u001b[0m\u001b[0m\n\u001b[0m\u001b[0;32m   2928\u001b[0m             \u001b[1;32mif\u001b[0m \u001b[0mis_integer\u001b[0m\u001b[1;33m(\u001b[0m\u001b[0mindexer\u001b[0m\u001b[1;33m)\u001b[0m\u001b[1;33m:\u001b[0m\u001b[1;33m\u001b[0m\u001b[1;33m\u001b[0m\u001b[0m\n\u001b[0;32m   2929\u001b[0m                 \u001b[0mindexer\u001b[0m \u001b[1;33m=\u001b[0m \u001b[1;33m[\u001b[0m\u001b[0mindexer\u001b[0m\u001b[1;33m]\u001b[0m\u001b[1;33m\u001b[0m\u001b[1;33m\u001b[0m\u001b[0m\n",
      "\u001b[1;32m~\\Anaconda3\\lib\\site-packages\\pandas\\core\\indexes\\base.py\u001b[0m in \u001b[0;36mget_loc\u001b[1;34m(self, key, method, tolerance)\u001b[0m\n\u001b[0;32m   2655\u001b[0m                                  'backfill or nearest lookups')\n\u001b[0;32m   2656\u001b[0m             \u001b[1;32mtry\u001b[0m\u001b[1;33m:\u001b[0m\u001b[1;33m\u001b[0m\u001b[1;33m\u001b[0m\u001b[0m\n\u001b[1;32m-> 2657\u001b[1;33m                 \u001b[1;32mreturn\u001b[0m \u001b[0mself\u001b[0m\u001b[1;33m.\u001b[0m\u001b[0m_engine\u001b[0m\u001b[1;33m.\u001b[0m\u001b[0mget_loc\u001b[0m\u001b[1;33m(\u001b[0m\u001b[0mkey\u001b[0m\u001b[1;33m)\u001b[0m\u001b[1;33m\u001b[0m\u001b[1;33m\u001b[0m\u001b[0m\n\u001b[0m\u001b[0;32m   2658\u001b[0m             \u001b[1;32mexcept\u001b[0m \u001b[0mKeyError\u001b[0m\u001b[1;33m:\u001b[0m\u001b[1;33m\u001b[0m\u001b[1;33m\u001b[0m\u001b[0m\n\u001b[0;32m   2659\u001b[0m                 \u001b[1;32mreturn\u001b[0m \u001b[0mself\u001b[0m\u001b[1;33m.\u001b[0m\u001b[0m_engine\u001b[0m\u001b[1;33m.\u001b[0m\u001b[0mget_loc\u001b[0m\u001b[1;33m(\u001b[0m\u001b[0mself\u001b[0m\u001b[1;33m.\u001b[0m\u001b[0m_maybe_cast_indexer\u001b[0m\u001b[1;33m(\u001b[0m\u001b[0mkey\u001b[0m\u001b[1;33m)\u001b[0m\u001b[1;33m)\u001b[0m\u001b[1;33m\u001b[0m\u001b[1;33m\u001b[0m\u001b[0m\n",
      "\u001b[1;32mpandas/_libs/index.pyx\u001b[0m in \u001b[0;36mpandas._libs.index.IndexEngine.get_loc\u001b[1;34m()\u001b[0m\n",
      "\u001b[1;32mpandas/_libs/index.pyx\u001b[0m in \u001b[0;36mpandas._libs.index.IndexEngine.get_loc\u001b[1;34m()\u001b[0m\n",
      "\u001b[1;31mTypeError\u001b[0m: '(slice(None, None, None), [0, 1, 2, 4, 6])' is an invalid key"
     ]
    }
   ],
   "source": [
    "model = KNeighborsRegressor(n_neighbors=10, n_jobs=4)\n",
    "model.fit(X_train[:,X_opt_new], y_train)\n",
    "predict=model.predict(X_test[:,X_opt_new])\n",
    "r2_score(y_test,predict)"
   ]
  },
  {
   "cell_type": "code",
   "execution_count": null,
   "metadata": {},
   "outputs": [],
   "source": []
  }
 ],
 "metadata": {
  "kernelspec": {
   "display_name": "Python 3",
   "language": "python",
   "name": "python3"
  },
  "language_info": {
   "codemirror_mode": {
    "name": "ipython",
    "version": 3
   },
   "file_extension": ".py",
   "mimetype": "text/x-python",
   "name": "python",
   "nbconvert_exporter": "python",
   "pygments_lexer": "ipython3",
   "version": "3.7.5"
  }
 },
 "nbformat": 4,
 "nbformat_minor": 2
}
